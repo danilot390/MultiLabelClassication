{
 "cells": [
  {
   "cell_type": "code",
   "execution_count": 99,
   "id": "08830b98",
   "metadata": {},
   "outputs": [],
   "source": [
    "import pandas as pd"
   ]
  },
  {
   "cell_type": "code",
   "execution_count": 100,
   "id": "9b3fe492",
   "metadata": {},
   "outputs": [
    {
     "data": {
      "text/html": [
       "<div>\n",
       "<style scoped>\n",
       "    .dataframe tbody tr th:only-of-type {\n",
       "        vertical-align: middle;\n",
       "    }\n",
       "\n",
       "    .dataframe tbody tr th {\n",
       "        vertical-align: top;\n",
       "    }\n",
       "\n",
       "    .dataframe thead th {\n",
       "        text-align: right;\n",
       "    }\n",
       "</style>\n",
       "<table border=\"1\" class=\"dataframe\">\n",
       "  <thead>\n",
       "    <tr style=\"text-align: right;\">\n",
       "      <th></th>\n",
       "      <th>Ticket id</th>\n",
       "      <th>Interaction id</th>\n",
       "      <th>Interaction date</th>\n",
       "      <th>Mailbox</th>\n",
       "      <th>Ticket Summary</th>\n",
       "      <th>Interaction content</th>\n",
       "      <th>Innso TYPOLOGY_TICKET</th>\n",
       "      <th>Type 1</th>\n",
       "      <th>Type 2</th>\n",
       "      <th>Type 3</th>\n",
       "      <th>Type 4</th>\n",
       "      <th>Unnamed: 11</th>\n",
       "      <th>Unnamed: 12</th>\n",
       "    </tr>\n",
       "  </thead>\n",
       "  <tbody>\n",
       "    <tr>\n",
       "      <th>0</th>\n",
       "      <td>24310</td>\n",
       "      <td>68365</td>\n",
       "      <td>NaN</td>\n",
       "      <td>support.eu@aspiegel.com</td>\n",
       "      <td>[HUAWEI Music] Problems and Suggestions</td>\n",
       "      <td>Mxxxxx@xxxx.com Отправлено с моего телефона Hu...</td>\n",
       "      <td>AppGallery &amp;amp; Games / Other Requests</td>\n",
       "      <td>AppGallery &amp;amp; Games</td>\n",
       "      <td>Others</td>\n",
       "      <td>NaN</td>\n",
       "      <td>NaN</td>\n",
       "      <td>NaN</td>\n",
       "      <td>NaN</td>\n",
       "    </tr>\n",
       "    <tr>\n",
       "      <th>1</th>\n",
       "      <td>24075</td>\n",
       "      <td>67730</td>\n",
       "      <td>NaN</td>\n",
       "      <td>support.pt@aspiegel.com</td>\n",
       "      <td>[AppGallery]Probleme und Vorschläge</td>\n",
       "      <td>Beschreibung Update lässt sich nicht installie...</td>\n",
       "      <td>AppGallery &amp;amp; Games / Suggestions &amp;amp; Fee...</td>\n",
       "      <td>AppGallery &amp;amp; Games</td>\n",
       "      <td>Problem/Fault</td>\n",
       "      <td>AppGallery-Install/Upgrade</td>\n",
       "      <td>Can't update Apps</td>\n",
       "      <td>NaN</td>\n",
       "      <td>NaN</td>\n",
       "    </tr>\n",
       "    <tr>\n",
       "      <th>2</th>\n",
       "      <td>24075</td>\n",
       "      <td>67762</td>\n",
       "      <td>NaN</td>\n",
       "      <td>support.pt@aspiegel.com</td>\n",
       "      <td>Re: RE : [AppGallery]Probleme und Vorschläge R...</td>\n",
       "      <td>Danke Nach Neuinstallation der App funktionier...</td>\n",
       "      <td>AppGallery &amp;amp; Games / Suggestions &amp;amp; Fee...</td>\n",
       "      <td>AppGallery &amp;amp; Games</td>\n",
       "      <td>Problem/Fault</td>\n",
       "      <td>AppGallery-Install/Upgrade</td>\n",
       "      <td>Can't update Apps</td>\n",
       "      <td>NaN</td>\n",
       "      <td>NaN</td>\n",
       "    </tr>\n",
       "    <tr>\n",
       "      <th>3</th>\n",
       "      <td>23748</td>\n",
       "      <td>66706</td>\n",
       "      <td>NaN</td>\n",
       "      <td>support.pt@aspiegel.com</td>\n",
       "      <td>[AppGallery]Problems and suggestions</td>\n",
       "      <td>Description . Contact information Axxxxx@xxxx.com</td>\n",
       "      <td>AppGallery &amp;amp; Games / Other Requests</td>\n",
       "      <td>AppGallery &amp;amp; Games</td>\n",
       "      <td>Suggestion</td>\n",
       "      <td>AppGallery-Use</td>\n",
       "      <td>Others</td>\n",
       "      <td>NaN</td>\n",
       "      <td>NaN</td>\n",
       "    </tr>\n",
       "    <tr>\n",
       "      <th>4</th>\n",
       "      <td>23740</td>\n",
       "      <td>66684</td>\n",
       "      <td>NaN</td>\n",
       "      <td>support.eu@aspiegel.com</td>\n",
       "      <td>NaN</td>\n",
       "      <td>Ho pagato ma l'applicazione non ha funzionato ...</td>\n",
       "      <td>AppGallery &amp;amp; Games / Refund request : app/...</td>\n",
       "      <td>AppGallery &amp;amp; Games</td>\n",
       "      <td>Problem/Fault</td>\n",
       "      <td>Third Party APPs</td>\n",
       "      <td>Refund</td>\n",
       "      <td>NaN</td>\n",
       "      <td>NaN</td>\n",
       "    </tr>\n",
       "  </tbody>\n",
       "</table>\n",
       "</div>"
      ],
      "text/plain": [
       "   Ticket id  Interaction id  Interaction date                  Mailbox  \\\n",
       "0      24310           68365               NaN  support.eu@aspiegel.com   \n",
       "1      24075           67730               NaN  support.pt@aspiegel.com   \n",
       "2      24075           67762               NaN  support.pt@aspiegel.com   \n",
       "3      23748           66706               NaN  support.pt@aspiegel.com   \n",
       "4      23740           66684               NaN  support.eu@aspiegel.com   \n",
       "\n",
       "                                      Ticket Summary  \\\n",
       "0            [HUAWEI Music] Problems and Suggestions   \n",
       "1                [AppGallery]Probleme und Vorschläge   \n",
       "2  Re: RE : [AppGallery]Probleme und Vorschläge R...   \n",
       "3               [AppGallery]Problems and suggestions   \n",
       "4                                                NaN   \n",
       "\n",
       "                                 Interaction content  \\\n",
       "0  Mxxxxx@xxxx.com Отправлено с моего телефона Hu...   \n",
       "1  Beschreibung Update lässt sich nicht installie...   \n",
       "2  Danke Nach Neuinstallation der App funktionier...   \n",
       "3  Description . Contact information Axxxxx@xxxx.com   \n",
       "4  Ho pagato ma l'applicazione non ha funzionato ...   \n",
       "\n",
       "                              Innso TYPOLOGY_TICKET                    Type 1  \\\n",
       "0            AppGallery &amp; Games / Other Requests  AppGallery &amp; Games    \n",
       "1  AppGallery &amp; Games / Suggestions &amp; Fee...  AppGallery &amp; Games    \n",
       "2  AppGallery &amp; Games / Suggestions &amp; Fee...  AppGallery &amp; Games    \n",
       "3            AppGallery &amp; Games / Other Requests  AppGallery &amp; Games    \n",
       "4  AppGallery &amp; Games / Refund request : app/...  AppGallery &amp; Games    \n",
       "\n",
       "          Type 2                      Type 3             Type 4 Unnamed: 11  \\\n",
       "0         Others                         NaN                NaN         NaN   \n",
       "1  Problem/Fault  AppGallery-Install/Upgrade  Can't update Apps         NaN   \n",
       "2  Problem/Fault  AppGallery-Install/Upgrade  Can't update Apps         NaN   \n",
       "3     Suggestion              AppGallery-Use             Others         NaN   \n",
       "4  Problem/Fault            Third Party APPs             Refund         NaN   \n",
       "\n",
       "   Unnamed: 12  \n",
       "0          NaN  \n",
       "1          NaN  \n",
       "2          NaN  \n",
       "3          NaN  \n",
       "4          NaN  "
      ]
     },
     "execution_count": 100,
     "metadata": {},
     "output_type": "execute_result"
    }
   ],
   "source": [
    "# path = 'processed/data.csv'\n",
    "path = 'raw/AppGallery.csv'\n",
    "df = pd.read_csv(path)\n",
    "df.head()\n"
   ]
  },
  {
   "cell_type": "code",
   "execution_count": 101,
   "id": "406de055",
   "metadata": {},
   "outputs": [
    {
     "data": {
      "text/plain": [
       "['AppGallery &amp; Games ']"
      ]
     },
     "execution_count": 101,
     "metadata": {},
     "output_type": "execute_result"
    }
   ],
   "source": [
    "list(df['Type 1'].unique())"
   ]
  },
  {
   "cell_type": "code",
   "execution_count": 102,
   "id": "27c92fd9",
   "metadata": {},
   "outputs": [],
   "source": [
    "b=set(df['Type 2'].unique())"
   ]
  },
  {
   "cell_type": "code",
   "execution_count": 103,
   "id": "1f781e35",
   "metadata": {},
   "outputs": [],
   "source": [
    "c=set(df['Type 3'].unique())"
   ]
  },
  {
   "cell_type": "code",
   "execution_count": 104,
   "id": "144b7e02",
   "metadata": {},
   "outputs": [],
   "source": [
    "d= set(df['Type 4'].unique())"
   ]
  },
  {
   "cell_type": "code",
   "execution_count": 105,
   "id": "05d7f329",
   "metadata": {},
   "outputs": [],
   "source": [
    "path = 'raw/Purchasing.csv'\n",
    "df = pd.read_csv(path)"
   ]
  },
  {
   "cell_type": "code",
   "execution_count": 106,
   "id": "b1870c46",
   "metadata": {},
   "outputs": [
    {
     "data": {
      "text/plain": [
       "['In-App Purchase ']"
      ]
     },
     "execution_count": 106,
     "metadata": {},
     "output_type": "execute_result"
    }
   ],
   "source": [
    "list(df['Type 1'].unique())"
   ]
  },
  {
   "cell_type": "code",
   "execution_count": 107,
   "id": "fb9b070f",
   "metadata": {},
   "outputs": [],
   "source": [
    "b.add(l for l in list(df['Type 2'].unique()))"
   ]
  },
  {
   "cell_type": "code",
   "execution_count": 108,
   "id": "fe6b24cd",
   "metadata": {},
   "outputs": [],
   "source": [
    "c.add(l for l in list(df['Type 3'].unique()))"
   ]
  },
  {
   "cell_type": "code",
   "execution_count": 109,
   "id": "e4e1e3c9",
   "metadata": {},
   "outputs": [],
   "source": [
    "d.add(l for l in list(df['Type 4'].unique()))"
   ]
  },
  {
   "cell_type": "code",
   "execution_count": 110,
   "id": "adaa6937",
   "metadata": {},
   "outputs": [
    {
     "data": {
      "text/plain": [
       "{<generator object <genexpr> at 0x10f1da380>,\n",
       " 'Others',\n",
       " 'Problem/Fault',\n",
       " 'Suggestion'}"
      ]
     },
     "execution_count": 110,
     "metadata": {},
     "output_type": "execute_result"
    }
   ],
   "source": [
    "b"
   ]
  },
  {
   "cell_type": "code",
   "execution_count": 111,
   "id": "5d1ba887",
   "metadata": {},
   "outputs": [
    {
     "data": {
      "text/plain": [
       "{<generator object <genexpr> at 0x10f1da680>,\n",
       " 'AppGallery-Install/Upgrade',\n",
       " 'AppGallery-Use',\n",
       " 'Coupon/Gifts/Points Issues',\n",
       " 'General',\n",
       " 'Others',\n",
       " 'Third Party APPs',\n",
       " 'VIP / Offers / Promotions',\n",
       " nan}"
      ]
     },
     "execution_count": 111,
     "metadata": {},
     "output_type": "execute_result"
    }
   ],
   "source": [
    "c"
   ]
  },
  {
   "cell_type": "code",
   "execution_count": 112,
   "id": "a1567c22",
   "metadata": {},
   "outputs": [
    {
     "data": {
      "text/plain": [
       "{<generator object <genexpr> at 0x10f1da740>,\n",
       " 'AppGallery not loading',\n",
       " \"Can't download Apps\",\n",
       " \"Can't install Apps\",\n",
       " \"Can't update Apps\",\n",
       " \"Can't use or acquire\",\n",
       " 'Cannot connect - Server',\n",
       " 'Cooperated campaign issue',\n",
       " 'Offers / Vouchers / Promotions',\n",
       " 'Other download/install/update issue',\n",
       " 'Others',\n",
       " 'Personal data',\n",
       " 'Refund',\n",
       " 'Security issue / malware',\n",
       " 'UI Abnormal in Huawei AppGallery',\n",
       " nan}"
      ]
     },
     "execution_count": 112,
     "metadata": {},
     "output_type": "execute_result"
    }
   ],
   "source": [
    "d"
   ]
  }
 ],
 "metadata": {
  "kernelspec": {
   "display_name": ".venv",
   "language": "python",
   "name": "python3"
  },
  "language_info": {
   "codemirror_mode": {
    "name": "ipython",
    "version": 3
   },
   "file_extension": ".py",
   "mimetype": "text/x-python",
   "name": "python",
   "nbconvert_exporter": "python",
   "pygments_lexer": "ipython3",
   "version": "3.12.1"
  }
 },
 "nbformat": 4,
 "nbformat_minor": 5
}
